{
 "cells": [
  {
   "cell_type": "markdown",
   "metadata": {},
   "source": [
    "# Self-Driving Car Engineer Nanodegree\n",
    "\n",
    "## Deep Learning\n",
    "\n",
    "## Project: Build a Traffic Sign Recognition Classifier\n",
    "\n",
    "In this notebook, a template is provided for you to implement your functionality in stages, which is required to successfully complete this project. If additional code is required that cannot be included in the notebook, be sure that the Python code is successfully imported and included in your submission if necessary. \n",
    "\n",
    "> **Note**: Once you have completed all of the code implementations, you need to finalize your work by exporting the iPython Notebook as an HTML document. Before exporting the notebook to html, all of the code cells need to have been run so that reviewers can see the final implementation and output. You can then export the notebook by using the menu above and navigating to  \\n\",\n",
    "    \"**File -> Download as -> HTML (.html)**. Include the finished document along with this notebook as your submission. \n",
    "\n",
    "In addition to implementing code, there is a writeup to complete. The writeup should be completed in a separate file, which can be either a markdown file or a pdf document. There is a [write up template](https://github.com/udacity/CarND-Traffic-Sign-Classifier-Project/blob/master/writeup_template.md) that can be used to guide the writing process. Completing the code template and writeup template will cover all of the [rubric points](https://review.udacity.com/#!/rubrics/481/view) for this project.\n",
    "\n",
    "The [rubric](https://review.udacity.com/#!/rubrics/481/view) contains \"Stand Out Suggestions\" for enhancing the project beyond the minimum requirements. The stand out suggestions are optional. If you decide to pursue the \"stand out suggestions\", you can include the code in this Ipython notebook and also discuss the results in the writeup file.\n",
    "\n",
    "\n",
    ">**Note:** Code and Markdown cells can be executed using the **Shift + Enter** keyboard shortcut. In addition, Markdown cells can be edited by typically double-clicking the cell to enter edit mode."
   ]
  },
  {
   "cell_type": "markdown",
   "metadata": {},
   "source": [
    "---\n",
    "## Step 0: Load The Data"
   ]
  },
  {
   "cell_type": "code",
   "execution_count": 1,
   "metadata": {
    "collapsed": false
   },
   "outputs": [],
   "source": [
    "# Load pickled data\n",
    "import pickle\n",
    "import os\n",
    "import numpy as np\n",
    "import pandas as pd\n",
    "import matplotlib.pyplot as plt\n",
    "import random\n",
    "\n",
    "from sklearn.utils import shuffle\n",
    "import cv2\n",
    "import tensorflow as tf"
   ]
  },
  {
   "cell_type": "code",
   "execution_count": 58,
   "metadata": {
    "collapsed": false
   },
   "outputs": [],
   "source": [
    "\n",
    "\n",
    "# TODO: Fill this in based on where you saved the training and testing data\n",
    "data_dir = \"traffic-signs-data\"\n",
    "training_file = os.path.join(data_dir, \"train.p\")\n",
    "validation_file=os.path.join(data_dir, \"valid.p\")\n",
    "testing_file = os.path.join(data_dir, \"test.p\")\n",
    "\n",
    "with open(training_file, mode='rb') as f:\n",
    "    train = pickle.load(f)\n",
    "with open(validation_file, mode='rb') as f:\n",
    "    valid = pickle.load(f)\n",
    "with open(testing_file, mode='rb') as f:\n",
    "    test = pickle.load(f)\n",
    "    \n",
    "X_train, y_train = train['features'], train['labels']\n",
    "X_valid, y_valid = valid['features'], valid['labels']\n",
    "X_test, y_test = test['features'], test['labels']\n"
   ]
  },
  {
   "cell_type": "markdown",
   "metadata": {},
   "source": [
    "---\n",
    "\n",
    "## Step 1: Dataset Summary & Exploration\n",
    "\n",
    "The pickled data is a dictionary with 4 key/value pairs:\n",
    "\n",
    "- `'features'` is a 4D array containing raw pixel data of the traffic sign images, (num examples, width, height, channels).\n",
    "- `'labels'` is a 1D array containing the label/class id of the traffic sign. The file `signnames.csv` contains id -> name mappings for each id.\n",
    "- `'sizes'` is a list containing tuples, (width, height) representing the original width and height the image.\n",
    "- `'coords'` is a list containing tuples, (x1, y1, x2, y2) representing coordinates of a bounding box around the sign in the image. **THESE COORDINATES ASSUME THE ORIGINAL IMAGE. THE PICKLED DATA CONTAINS RESIZED VERSIONS (32 by 32) OF THESE IMAGES**\n",
    "\n",
    "Complete the basic data summary below. Use python, numpy and/or pandas methods to calculate the data summary rather than hard coding the results. For example, the [pandas shape method](http://pandas.pydata.org/pandas-docs/stable/generated/pandas.DataFrame.shape.html) might be useful for calculating some of the summary results. "
   ]
  },
  {
   "cell_type": "markdown",
   "metadata": {},
   "source": [
    "### Provide a Basic Summary of the Data Set Using Python, Numpy and/or Pandas"
   ]
  },
  {
   "cell_type": "code",
   "execution_count": 59,
   "metadata": {
    "collapsed": true
   },
   "outputs": [
    {
     "name": "stdout",
     "output_type": "stream",
     "text": [
      "Number of training examples = 34799\nNumber of testing examples = 12630\nImage data shape = (32, 32, 3)\nNumber of classes = 43\n"
     ]
    }
   ],
   "source": [
    "\n",
    "### Replace each question mark with the appropriate value. \n",
    "### Use python, pandas or numpy methods rather than hard coding the results\n",
    "\n",
    "# TODO: Number of training examples\n",
    "n_train = X_train.shape[0]\n",
    "\n",
    "# TODO: Number of validation examples\n",
    "n_validation = X_valid.shape[0]\n",
    "\n",
    "# TODO: Number of testing examples.\n",
    "n_test = X_test.shape[0]\n",
    "\n",
    "# TODO: What's the shape of an traffic sign image?\n",
    "image_shape = X_train.shape[1:]\n",
    "\n",
    "# TODO: How many unique classes/labels there are in the dataset.\n",
    "classes_df = pd.read_csv('signnames.csv',delimiter=',')\n",
    "n_classes = len(classes_df['ClassId'])\n",
    "\n",
    "print(\"Number of training examples =\", n_train)\n",
    "print(\"Number of testing examples =\", n_test)\n",
    "print(\"Image data shape =\", image_shape)\n",
    "print(\"Number of classes =\", n_classes)\n"
   ]
  },
  {
   "cell_type": "code",
   "execution_count": 60,
   "metadata": {
    "collapsed": true
   },
   "outputs": [],
   "source": [
    "EPOCHS = 30\n",
    "BATCH_SIZE = 64\n"
   ]
  },
  {
   "cell_type": "markdown",
   "metadata": {},
   "source": [
    "### Include an exploratory visualization of the dataset"
   ]
  },
  {
   "cell_type": "markdown",
   "metadata": {},
   "source": [
    "Visualize the German Traffic Signs Dataset using the pickled file(s). This is open ended, suggestions include: plotting traffic sign images, plotting the count of each sign, etc. \n",
    "\n",
    "The [Matplotlib](http://matplotlib.org/) [examples](http://matplotlib.org/examples/index.html) and [gallery](http://matplotlib.org/gallery.html) pages are a great resource for doing visualizations in Python.\n",
    "\n",
    "**NOTE:** It's recommended you start with something simple first. If you wish to do more, come back to it after you've completed the rest of the sections. It can be interesting to look at the distribution of classes in the training, validation and test set. Is the distribution the same? Are there more examples of some classes than others?"
   ]
  },
  {
   "cell_type": "code",
   "execution_count": 121,
   "metadata": {
    "collapsed": true
   },
   "outputs": [
    {
     "name": "stdout",
     "output_type": "stream",
     "text": [
      "uint8\nLabel 10\n38\n"
     ]
    },
    {
     "data": {
      "text/plain": [
       "<matplotlib.image.AxesImage at 0x227d0c61160>"
      ]
     },
     "execution_count": 121,
     "metadata": {},
     "output_type": "execute_result"
    },
    {
     "data": {
      "image/png": "[encoded data removed]",
      "text/plain": [
       "<Figure size 144x144 with 1 Axes>"
      ]
     },
     "metadata": {},
     "output_type": "display_data"
    }
   ],
   "source": [
    "### Data exploration visualization code goes here.\n",
    "### Feel free to use as many code cells as needed.\n",
    "\n",
    "# Visualizations will be shown in the notebook.\n",
    "%matplotlib inline\n",
    "index = random.randint(0,n_train)\n",
    "image = X_train[index]\n",
    "label = y_train[index]\n",
    "\n",
    "print(image[0].dtype)\n",
    "print(\"Label {0}\".format(label))\n",
    "print(image[0,0,0])\n",
    "plt.figure(figsize=(2,2))\n",
    "plt.imshow(image, cmap='brg')\n",
    "\n",
    "# TODO: visualize a random image of each label as an example"
   ]
  },
  {
   "cell_type": "markdown",
   "metadata": {},
   "source": [
    "----\n",
    "\n",
    "## Step 2: Design and Test a Model Architecture\n",
    "\n",
    "Design and implement a deep learning model that learns to recognize traffic signs. Train and test your model on the [German Traffic Sign Dataset](http://benchmark.ini.rub.de/?section=gtsrb&subsection=dataset).\n",
    "\n",
    "The LeNet-5 implementation shown in the [classroom](https://classroom.udacity.com/nanodegrees/nd013/parts/fbf77062-5703-404e-b60c-95b78b2f3f9e/modules/6df7ae49-c61c-4bb2-a23e-6527e69209ec/lessons/601ae704-1035-4287-8b11-e2c2716217ad/concepts/d4aca031-508f-4e0b-b493-e7b706120f81) at the end of the CNN lesson is a solid starting point. You'll have to change the number of classes and possibly the preprocessing, but aside from that it's plug and play! \n",
    "\n",
    "With the LeNet-5 solution from the lecture, you should expect a validation set accuracy of about 0.89. To meet specifications, the validation set accuracy will need to be at least 0.93. It is possible to get an even higher accuracy, but 0.93 is the minimum for a successful project submission. \n",
    "\n",
    "There are various aspects to consider when thinking about this problem:\n",
    "\n",
    "- Neural network architecture (is the network over or underfitting?)\n",
    "- Play around preprocessing techniques (normalization, rgb to grayscale, etc)\n",
    "- Number of examples per label (some have more than others).\n",
    "- Generate fake data.\n",
    "\n",
    "Here is an example of a [published baseline model on this problem](http://yann.lecun.com/exdb/publis/pdf/sermanet-ijcnn-11.pdf). It's not required to be familiar with the approach used in the paper but, it's good practice to try to read papers like these."
   ]
  },
  {
   "cell_type": "markdown",
   "metadata": {},
   "source": [
    "### Pre-process the Data Set (normalization, grayscale, etc.)"
   ]
  },
  {
   "cell_type": "markdown",
   "metadata": {},
   "source": [
    "Minimally, the image data should be normalized so that the data has mean zero and equal variance. For image data, `(pixel - 128)/ 128` is a quick way to approximately normalize the data and can be used in this project. \n",
    "\n",
    "Other pre-processing steps are optional. You can try different techniques to see if it improves performance. \n",
    "\n",
    "Use the code cell (or multiple code cells, if necessary) to implement the first step of your project."
   ]
  },
  {
   "cell_type": "code",
   "execution_count": 62,
   "metadata": {
    "collapsed": true
   },
   "outputs": [],
   "source": [
    "# Shuffle the training data to increase randomness\n",
    "\n",
    "X_train_shuffled, y_train_shuffled = shuffle(X_train, y_train)\n"
   ]
  },
  {
   "cell_type": "code",
   "execution_count": 64,
   "metadata": {
    "collapsed": true
   },
   "outputs": [],
   "source": [
    "\n",
    "\n",
    "def gray_scale(image):\n",
    "    \"\"\"\n",
    "    Convert images to gray scale\n",
    "    Wrapper of openCV function\n",
    "    :param image: input image\n",
    "    :return: converted gray scale image\n",
    "    \"\"\"\n",
    "    return cv2.cvtColor(image, cv2.COLOR_RGB2GRAY)\n",
    "\n",
    "# Convert images to gray scale because according to a paper by P. Sermanet and Y.Lecun, gray scale improve convnet accuracy\n",
    "# todo: add paper reference\n",
    "# todo: search for other optimizations\n",
    "X_train_gray_scale = np.array(list(map(gray_scale, X_train_shuffled)))\n"
   ]
  },
  {
   "cell_type": "code",
   "execution_count": 65,
   "metadata": {
    "collapsed": true
   },
   "outputs": [],
   "source": [
    "from skimage.morphology import disk\n",
    "from skimage.filters import rank\n",
    "\n",
    "\n",
    "def local_histogram_equalization(image):\n",
    "    selem = disk(30)\n",
    "    img_eq = rank.equalize(image, selem=selem)\n",
    "    return img_eq\n",
    "    "
   ]
  },
  {
   "cell_type": "code",
   "execution_count": 69,
   "metadata": {
    "collapsed": true
   },
   "outputs": [
    {
     "name": "stdout",
     "output_type": "stream",
     "text": [
      "image shape  (32, 32, 1)\n"
     ]
    }
   ],
   "source": [
    "### Preprocess the data here. It is required to normalize the data. Other preprocessing steps could include \n",
    "### converting to grayscale, etc.\n",
    "### Feel free to use as many code cells as needed.\n",
    "import numpy as np\n",
    "\n",
    "def preprocess(X):\n",
    "    \"\"\"\n",
    "    \n",
    "    :param dataset: \n",
    "    :return: \n",
    "    \"\"\"\n",
    "    \n",
    "    X_gray_scale = np.array(list(map(gray_scale, X)))\n",
    "    X_local_equalized = np.array(list(map(local_histogram_equalization, X_gray_scale)))\n",
    "    # X_normalized = np.array(list(map(lambda x: np.divide(np.subtract(x,128),256), X_local_equalized)))\n",
    "    # TODO(qingyouz): I really don't know why the math is like this. I changed the range from [-1,1] to [0,1]. \n",
    "    # # The accuracy increased from 0.8 to 0.95 .....\n",
    "    X_normalized = np.divide(X_local_equalized, 256)\n",
    "    # Change the shape back to (32,32,1) instead of (32,32)\n",
    "    X_reshaped = np.array(list(map(lambda x: np.reshape(x, list(x.shape)+[1]), X_normalized)))\n",
    "    \n",
    "    return X_reshaped \n",
    "\n",
    "# Read the data again so we only run this cell for data processing\n",
    "X_train, y_train = train['features'], train['labels']\n",
    "X_valid, y_valid = valid['features'], valid['labels']\n",
    "X_test, y_test = test['features'], test['labels']\n",
    "\n",
    "X_train_processed = preprocess(X_train)\n",
    "X_valid_processed = preprocess(X_valid)\n",
    "X_test_processed= preprocess(X_test)\n",
    "image_shape = X_train_processed[0].shape\n",
    "print(\"image shape \", image_shape)\n"
   ]
  },
  {
   "cell_type": "code",
   "execution_count": 14,
   "metadata": {
    "collapsed": true
   },
   "outputs": [],
   "source": [
    "\n"
   ]
  },
  {
   "cell_type": "markdown",
   "metadata": {},
   "source": [
    "### Model Architecture"
   ]
  },
  {
   "cell_type": "code",
   "execution_count": null,
   "metadata": {
    "collapsed": true
   },
   "outputs": [],
   "source": [
    "### Define your architecture here.\n",
    "### Feel free to use as many code cells as needed.\n",
    "\n"
   ]
  },
  {
   "cell_type": "code",
   "execution_count": 76,
   "metadata": {
    "collapsed": true
   },
   "outputs": [],
   "source": [
    "\n",
    "def LeNet(x, output_classes=43):\n",
    "    # Arguments used for tf.truncated_normal, randomly defines variables for the weights and biases for each layer\n",
    "    mu = 0\n",
    "    sigma = 0.1\n",
    "    log_shapes = True\n",
    "    \n",
    "    # TODO: Layer 1: Convolutional. Input = 32x32x1. Output = 28x28x6.\n",
    "    # To achieve this, we will need a convolution filter of size 5x5x1x6. A size 1 striding and VALID padding\n",
    "    filter_shape = [5,5,x.shape[3].value,6]\n",
    "    filter_kernel = tf.Variable(tf.truncated_normal(filter_shape, mu, sigma))\n",
    "    strides = [1,1,1,1]\n",
    "    padding = 'VALID'\n",
    "    conv1_bias = tf.Variable(tf.zeros(filter_shape[3]))\n",
    "    conv1 = tf.nn.conv2d(x,filter_kernel, strides, padding) + conv1_bias\n",
    "    if log_shapes:\n",
    "        print(\"conv1: {0}\".format(conv1))\n",
    "    # TODO: Activation.\n",
    "    conv1_activated = tf.nn.relu(conv1)\n",
    "    if log_shapes:\n",
    "        print(\"conv1_activated: {0}\".format(conv1_activated))\n",
    "\n",
    "    # TODO: Pooling. Input = 28x28x6. Output = 14x14x6.\n",
    "    ksize = [1,2,2,1]\n",
    "    strides = [1,2,2,1]\n",
    "    padding = 'VALID'\n",
    "    conv1_pooled = tf.nn.max_pool(conv1_activated,ksize,strides,padding)\n",
    "    if log_shapes:\n",
    "        print(\"conv1_pooled: {0}\".format(conv1_pooled))\n",
    "\n",
    "    # TODO: Layer 2: Convolutional. Output = 10x10x16.\n",
    "    # From 14x14x6 to 10x10x16, we need 5x5x6x16 filter. size 1 striding and VALID padding\n",
    "    filter_shape = [5,5,6,16]\n",
    "    filter_kernel = tf.Variable(tf.truncated_normal(filter_shape,mu,sigma))\n",
    "    strides = [1,1,1,1]\n",
    "    padding = 'VALID'\n",
    "    conv2_bias =  tf.Variable(tf.zeros(filter_shape[3]))\n",
    "    conv2 = tf.nn.conv2d(conv1_pooled,filter_kernel,strides, padding) + conv2_bias\n",
    "    if log_shapes:\n",
    "        print(\"conv2: {0}\".format(conv2))\n",
    "    \n",
    "    # TODO: Activation.\n",
    "    conv2_activated = tf.nn.relu(conv2)\n",
    "\n",
    "    # TODO: Pooling. Input = 10x10x16. Output = 5x5x16.\n",
    "    # yet another max pooling with 2\n",
    "    ksize = [1,2,2,1]\n",
    "    strides = [1,2,2,1]\n",
    "    padding = 'VALID'\n",
    "    conv2_pooled = tf.nn.max_pool(conv2_activated, ksize, strides, padding)\n",
    "    if log_shapes:\n",
    "        print(\"conv2_pooled: {0}\".format(conv2_pooled))\n",
    "    # TODO: Flatten. Input = 5x5x16. Output = 400.\n",
    "    flattened = tf.contrib.layers.flatten(conv2_pooled)\n",
    "    if log_shapes:\n",
    "        print(\"flattened: {0}\".format(flattened)) \n",
    "    \n",
    "    # TODO: Layer 3: Fully Connected. Input = 400. Output = 120.\n",
    "    num_outputs =120\n",
    "    fully_connected_weights = tf.Variable(tf.truncated_normal((400, 120), mean=mu,stddev=sigma))\n",
    "    fully_connected_bias  = tf.zeros([num_outputs])\n",
    "    (flattened,fully_connected_weights)\n",
    "    fully_connected = tf.contrib.layers.fully_connected(flattened, num_outputs, activation_fn=tf.nn.relu)\n",
    "    if log_shapes:\n",
    "        print(\"fully_connected: {0}\".format(fully_connected)) \n",
    "    \n",
    "    # TODO: Activation.\n",
    "    # Ideally we can use the default activation fn in fully_connected, buet let's be explicit here\n",
    "    fully_connected_activated = tf.nn.relu(fully_connected)\n",
    "    if log_shapes:\n",
    "        print(\"fully_connected_activated: {0}\".format(fully_connected_activated)) \n",
    "    \n",
    "\n",
    "    # TODO: Layer 4: Fully Connected. Input = 120. Output = 84.\n",
    "    num_outputs = 84\n",
    "    fully_connected_4_weights = tf.Variable(tf.truncated_normal((120,84),mean=mu, stddev=sigma))\n",
    "    tf.matmul(fully_connected_activated,fully_connected_4_weights)\n",
    "    fully_connected_4 = tf.contrib.layers.fully_connected(fully_connected, num_outputs, activation_fn=tf.nn.relu)\n",
    "    if log_shapes:\n",
    "        print(\"fully_connected_4: {0}\".format(fully_connected_4)) \n",
    "    \n",
    "    # TODO: Activation.\n",
    "    fully_connected_4_activated = tf.nn.relu(fully_connected_4)\n",
    "\n",
    "    # TODO: Layer 5: Fully Connected. Input = 84. Output = 10.\n",
    "    num_outputs = output_classes\n",
    "    fully_connected_5_weights = tf.Variable(tf.truncated_normal((84,output_classes),mean=mu,stddev=sigma))\n",
    "    tf.matmul(fully_connected_4_activated, fully_connected_5_weights)\n",
    "    fully_connected_5 = tf.contrib.layers.fully_connected(fully_connected_4, num_outputs, activation_fn=None)\n",
    "    if log_shapes:\n",
    "        print(\"fully_connected_5: {0}\".format(fully_connected_5)) \n",
    "    \n",
    "    logits = fully_connected_5\n",
    "    \n",
    "    return logits\n"
   ]
  },
  {
   "cell_type": "markdown",
   "metadata": {},
   "source": [
    "### Train, Validate and Test the Model"
   ]
  },
  {
   "cell_type": "markdown",
   "metadata": {},
   "source": [
    "A validation set can be used to assess how well the model is performing. A low accuracy on the training and validation\n",
    "sets imply underfitting. A high accuracy on the training set but low accuracy on the validation set implies overfitting."
   ]
  },
  {
   "cell_type": "code",
   "execution_count": 77,
   "metadata": {
    "collapsed": false
   },
   "outputs": [],
   "source": [
    "\n",
    "### Train your model here.\n",
    "### Calculate and report the accuracy on the training and validation set.\n",
    "### Once a final model architecture is selected, \n",
    "### the accuracy on the test set should be calculated and reported as well.\n",
    "### Feel free to use as many code cells as needed.\n",
    "x = tf.placeholder(tf.float32, [None] + list(image_shape))\n",
    "y = tf.placeholder(tf.int32, (None))\n",
    "one_hot_y = tf.one_hot(y, n_classes)\n"
   ]
  },
  {
   "cell_type": "code",
   "execution_count": 78,
   "metadata": {
    "collapsed": false
   },
   "outputs": [
    {
     "name": "stdout",
     "output_type": "stream",
     "text": [
      "Tensor(\"Placeholder_4:0\", shape=(?, 32, 32, 1), dtype=float32)\nTensor(\"Placeholder_5:0\", dtype=int32)\n"
     ]
    }
   ],
   "source": [
    "\n",
    "print(x)\n",
    "print(y)"
   ]
  },
  {
   "cell_type": "markdown",
   "metadata": {
    "collapsed": false
   },
   "source": [
    "## Training Pipeline\n"
   ]
  },
  {
   "cell_type": "code",
   "execution_count": 79,
   "metadata": {
    "collapsed": true
   },
   "outputs": [
    {
     "name": "stdout",
     "output_type": "stream",
     "text": [
      "conv1: Tensor(\"add:0\", shape=(?, 28, 28, 6), dtype=float32)\nconv1_activated: Tensor(\"Relu:0\", shape=(?, 28, 28, 6), dtype=float32)\nconv1_pooled: Tensor(\"MaxPool:0\", shape=(?, 14, 14, 6), dtype=float32)\nconv2: Tensor(\"add_1:0\", shape=(?, 10, 10, 16), dtype=float32)\nconv2_pooled: Tensor(\"MaxPool_1:0\", shape=(?, 5, 5, 16), dtype=float32)\nflattened: Tensor(\"Flatten/flatten/Reshape:0\", shape=(?, 400), dtype=float32)\nfully_connected: Tensor(\"fully_connected/Relu:0\", shape=(?, 120), dtype=float32)\nfully_connected_activated: Tensor(\"Relu_2:0\", shape=(?, 120), dtype=float32)\nfully_connected_4: Tensor(\"fully_connected_1/Relu:0\", shape=(?, 84), dtype=float32)\nfully_connected_5: Tensor(\"fully_connected_2/BiasAdd:0\", shape=(?, 43), dtype=float32)\n"
     ]
    }
   ],
   "source": [
    "# Training \n",
    "rate = 0.001\n",
    "logits = LeNet(x, output_classes=n_classes)\n",
    "cross_entropy = tf.nn.softmax_cross_entropy_with_logits_v2(labels=one_hot_y, logits=logits)\n",
    "loss_operation = tf.reduce_mean(cross_entropy)\n",
    "optimizer = tf.train.AdamOptimizer(learning_rate=rate)\n",
    "training_operation = optimizer.minimize(loss_operation)\n"
   ]
  },
  {
   "cell_type": "markdown",
   "metadata": {
    "collapsed": false
   },
   "source": [
    "## Model Evaluation"
   ]
  },
  {
   "cell_type": "code",
   "execution_count": 80,
   "metadata": {
    "collapsed": true
   },
   "outputs": [],
   "source": [
    "prediction = tf.argmax(logits, 1)\n",
    "correct_prediction = tf.equal(tf.argmax(logits, 1), tf.argmax(one_hot_y, 1))\n",
    "accuracy_operation = tf.reduce_mean(tf.cast(correct_prediction, tf.float32))\n",
    "saver = tf.train.Saver()\n"
   ]
  },
  {
   "cell_type": "code",
   "execution_count": 81,
   "metadata": {
    "collapsed": true
   },
   "outputs": [],
   "source": [
    "\n",
    "def evaluate(X_data, y_data, batch_size):\n",
    "    num_examples = len(X_data)\n",
    "    total_accuracy = 0\n",
    "    sess = tf.get_default_session()\n",
    "    for offset in range(0, num_examples, batch_size):\n",
    "        batch_x, batch_y = X_data[offset:offset+batch_size], y_data[offset:offset+batch_size]\n",
    "        accuracy = sess.run(accuracy_operation, feed_dict={x: batch_x, y: batch_y,keep_prob:1.0, keep_prob_conv:1.0})\n",
    "        total_accuracy += (accuracy * len(batch_x))\n",
    "    return total_accuracy / num_examples\n"
   ]
  },
  {
   "cell_type": "markdown",
   "metadata": {
    "collapsed": false
   },
   "source": [
    "## Train the Model"
   ]
  },
  {
   "cell_type": "code",
   "execution_count": 82,
   "metadata": {
    "collapsed": true
   },
   "outputs": [],
   "source": [
    "\n",
    "keep_prob = tf.placeholder(tf.float32)       # For fully-connected layers\n",
    "keep_prob_conv = tf.placeholder(tf.float32)  # For convolutional layers"
   ]
  },
  {
   "cell_type": "code",
   "execution_count": 83,
   "metadata": {
    "collapsed": true
   },
   "outputs": [
    {
     "name": "stdout",
     "output_type": "stream",
     "text": [
      "Training...\n\n"
     ]
    },
    {
     "name": "stdout",
     "output_type": "stream",
     "text": [
      "EPOCH 1 ...\nValidation Accuracy = 0.773\n\n"
     ]
    },
    {
     "name": "stdout",
     "output_type": "stream",
     "text": [
      "EPOCH 2 ...\nValidation Accuracy = 0.868\n\n"
     ]
    },
    {
     "name": "stdout",
     "output_type": "stream",
     "text": [
      "EPOCH 3 ...\nValidation Accuracy = 0.881\n\n"
     ]
    },
    {
     "name": "stdout",
     "output_type": "stream",
     "text": [
      "EPOCH 4 ...\nValidation Accuracy = 0.899\n\n"
     ]
    },
    {
     "name": "stdout",
     "output_type": "stream",
     "text": [
      "EPOCH 5 ...\nValidation Accuracy = 0.913\n\n"
     ]
    },
    {
     "name": "stdout",
     "output_type": "stream",
     "text": [
      "EPOCH 6 ...\nValidation Accuracy = 0.903\n\n"
     ]
    },
    {
     "name": "stdout",
     "output_type": "stream",
     "text": [
      "EPOCH 7 ...\nValidation Accuracy = 0.910\n\n"
     ]
    },
    {
     "name": "stdout",
     "output_type": "stream",
     "text": [
      "EPOCH 8 ...\nValidation Accuracy = 0.889\n\n"
     ]
    },
    {
     "name": "stdout",
     "output_type": "stream",
     "text": [
      "EPOCH 9 ...\nValidation Accuracy = 0.915\n\n"
     ]
    },
    {
     "name": "stdout",
     "output_type": "stream",
     "text": [
      "EPOCH 10 ...\nValidation Accuracy = 0.925\n\n"
     ]
    },
    {
     "name": "stdout",
     "output_type": "stream",
     "text": [
      "EPOCH 11 ...\nValidation Accuracy = 0.916\n\n"
     ]
    },
    {
     "name": "stdout",
     "output_type": "stream",
     "text": [
      "EPOCH 12 ...\nValidation Accuracy = 0.934\n\n"
     ]
    },
    {
     "name": "stdout",
     "output_type": "stream",
     "text": [
      "EPOCH 13 ...\nValidation Accuracy = 0.924\n\n"
     ]
    },
    {
     "name": "stdout",
     "output_type": "stream",
     "text": [
      "EPOCH 14 ...\nValidation Accuracy = 0.920\n\n"
     ]
    },
    {
     "name": "stdout",
     "output_type": "stream",
     "text": [
      "EPOCH 15 ...\nValidation Accuracy = 0.919\n\n"
     ]
    },
    {
     "name": "stdout",
     "output_type": "stream",
     "text": [
      "EPOCH 16 ...\nValidation Accuracy = 0.920\n\n"
     ]
    },
    {
     "name": "stdout",
     "output_type": "stream",
     "text": [
      "EPOCH 17 ...\nValidation Accuracy = 0.922\n\n"
     ]
    },
    {
     "name": "stdout",
     "output_type": "stream",
     "text": [
      "EPOCH 18 ...\nValidation Accuracy = 0.923\n\n"
     ]
    },
    {
     "name": "stdout",
     "output_type": "stream",
     "text": [
      "EPOCH 19 ...\nValidation Accuracy = 0.937\n\n"
     ]
    },
    {
     "name": "stdout",
     "output_type": "stream",
     "text": [
      "EPOCH 20 ...\nValidation Accuracy = 0.924\n\n"
     ]
    },
    {
     "name": "stdout",
     "output_type": "stream",
     "text": [
      "EPOCH 21 ...\nValidation Accuracy = 0.914\n\n"
     ]
    },
    {
     "name": "stdout",
     "output_type": "stream",
     "text": [
      "EPOCH 22 ...\nValidation Accuracy = 0.937\n\n"
     ]
    },
    {
     "name": "stdout",
     "output_type": "stream",
     "text": [
      "EPOCH 23 ...\nValidation Accuracy = 0.940\n\n"
     ]
    },
    {
     "name": "stdout",
     "output_type": "stream",
     "text": [
      "EPOCH 24 ...\nValidation Accuracy = 0.929\n\n"
     ]
    },
    {
     "name": "stdout",
     "output_type": "stream",
     "text": [
      "EPOCH 25 ...\nValidation Accuracy = 0.937\n\n"
     ]
    },
    {
     "name": "stdout",
     "output_type": "stream",
     "text": [
      "EPOCH 26 ...\nValidation Accuracy = 0.938\n\n"
     ]
    },
    {
     "name": "stdout",
     "output_type": "stream",
     "text": [
      "EPOCH 27 ...\nValidation Accuracy = 0.939\n\n"
     ]
    },
    {
     "name": "stdout",
     "output_type": "stream",
     "text": [
      "EPOCH 28 ...\nValidation Accuracy = 0.935\n\n"
     ]
    },
    {
     "name": "stdout",
     "output_type": "stream",
     "text": [
      "EPOCH 29 ...\nValidation Accuracy = 0.940\n\n"
     ]
    },
    {
     "name": "stdout",
     "output_type": "stream",
     "text": [
      "EPOCH 30 ...\nValidation Accuracy = 0.933\n\nModel saved\n"
     ]
    }
   ],
   "source": [
    "with tf.Session() as sess:\n",
    "    sess.run(tf.global_variables_initializer())\n",
    "    num_examples = len(X_train)\n",
    "    \n",
    "    print(\"Training...\")\n",
    "    # Note Needed to downgrade cuDnn to 7.0.5 CUDA 9.0 to be compatible with tensorflow \n",
    "    print()\n",
    "    for i in range(EPOCHS):\n",
    "        X_train_processed, y_train = shuffle(X_train_processed, y_train)\n",
    "        for offset in range(0, num_examples, BATCH_SIZE):\n",
    "            end = offset + BATCH_SIZE\n",
    "            batch_x, batch_y = X_train_processed[offset:end], y_train[offset:end]\n",
    "            sess.run(training_operation, feed_dict={x: batch_x, y: batch_y, keep_prob:0.5, keep_prob_conv:0.7})\n",
    "            \n",
    "        validation_accuracy = evaluate(X_valid_processed, y_valid, BATCH_SIZE)\n",
    "        print(\"EPOCH {} ...\".format(i+1))\n",
    "        print(\"Validation Accuracy = {:.3f}\".format(validation_accuracy))\n",
    "        print()\n",
    "        \n",
    "    saver.save(sess, './lenet')\n",
    "    print(\"Model saved\")\n"
   ]
  },
  {
   "cell_type": "markdown",
   "metadata": {},
   "source": [
    "---\n",
    "\n",
    "## Step 3: Test a Model on New Images\n",
    "\n",
    "To give yourself more insight into how your model is working, download at least five pictures of German traffic signs from the web and use your model to predict the traffic sign type.\n",
    "\n",
    "You may find `signnames.csv` useful as it contains mappings from the class id (integer) to the actual sign name."
   ]
  },
  {
   "cell_type": "markdown",
   "metadata": {},
   "source": [
    "### Load and Output the Images"
   ]
  },
  {
   "cell_type": "code",
   "execution_count": 122,
   "metadata": {
    "collapsed": true
   },
   "outputs": [
    {
     "name": "stdout",
     "output_type": "stream",
     "text": [
      "    Filename  Width  Height  Roi.X1  Roi.Y1  Roi.X2  Roi.Y2  ClassId\n0  00000.ppm     53      54       6       5      48      49       16\n1  00001.ppm     42      45       5       5      36      40        1\n2  00002.ppm     48      52       6       6      43      47       38\n3  00003.ppm     27      29       5       5      22      24       33\n4  00004.ppm     60      57       5       5      55      52       11\n[54, 53, 3]\n170\n62\n56\n94\n41\n"
     ]
    },
    {
     "data": {
      "image/png": "[encoded data removed]",
      "text/plain": [
       "<Figure size 1440x720 with 5 Axes>"
      ]
     },
     "metadata": {},
     "output_type": "display_data"
    }
   ],
   "source": [
    "### Load the images and plot them here.\n",
    "### Feel free to use as many code cells as needed.\n",
    "\n",
    "# Data source:\n",
    "# Test data set at: http://benchmark.ini.rub.de/?section=gtsrb&subsection=dataset\n",
    "test_image_directory = \"GTSRB_Final_Test_Images\\GTSRB\\Final_Test\\Images\"\n",
    "test_image_index_file = \"GT-final_test.csv\"\n",
    "\n",
    "import pandas as pd\n",
    "import imageio\n",
    "\n",
    "def load_test_iamges(test_image_directory, index_file , num_samples=5):\n",
    "    \"\"\"\n",
    "    Given a test image directory, return a list of test samples\n",
    "    :param test_image_directory: \n",
    "    :return: \n",
    "    \"\"\"\n",
    "    index_file_full = os.path.join(test_image_directory, index_file)\n",
    "    index = pd.read_csv(index_file_full, delimiter=';')   \n",
    "    \n",
    "    if num_samples < len(index):\n",
    "        index = index.head(num_samples)\n",
    "    \n",
    "    print(index)\n",
    "    shape = list(imageio.imread(os.path.join(test_image_directory, index['Filename'][0])).shape)\n",
    "    print(shape)\n",
    "    shape = [32,32,3]\n",
    "    images = np.zeros([len(index)]+shape, dtype=np.uint8)\n",
    "    classes = np.zeros(len(index), dtype=np.uint8)\n",
    "    \n",
    "    for i, row in index.iterrows():\n",
    "        image = cv2.imread(os.path.join(test_image_directory, row['Filename']) )\n",
    "        image_label_section = image[row['Roi.Y1']:row['Roi.Y2'],row['Roi.X1']:row['Roi.X2'],:]\n",
    "        image_resized = cv2.resize(image_label_section, (32,32))\n",
    "        print(image_resized[0,0,0])\n",
    "            \n",
    "        images[i] = np.array(image_resized.astype(np.float32))\n",
    "        \n",
    "        classes[i] = (row['ClassId'])\n",
    "    \n",
    "    return images, classes\n",
    "\n",
    "images, classes = load_test_iamges(test_image_directory, test_image_index_file, num_samples=5)\n",
    "\n",
    "def visualize_images(images, classes):\n",
    "    %matplotlib inline\n",
    "\n",
    "    rows = len(images)\n",
    "    cols = 1\n",
    "\n",
    "    fig = plt.figure(figsize=(20,10))\n",
    "    ax = []\n",
    "    for i, image in enumerate(images):\n",
    "        ax.append(fig.add_subplot(rows, cols, i+1))\n",
    "        ax[-1].set_title(\"ClassId \"+ str(classes[i]))\n",
    "        plt.imshow(image)\n",
    "    \n",
    "\n",
    "visualize_images(images, classes)"
   ]
  },
  {
   "cell_type": "markdown",
   "metadata": {},
   "source": [
    "### Predict the Sign Type for Each Image"
   ]
  },
  {
   "cell_type": "code",
   "execution_count": 54,
   "metadata": {
    "collapsed": true
   },
   "outputs": [
    {
     "name": "stdout",
     "output_type": "stream",
     "text": [
      "INFO:tensorflow:Restoring parameters from ./lenet\n"
     ]
    },
    {
     "name": "stdout",
     "output_type": "stream",
     "text": [
      "Logits are : [[-36.762054   -32.69155    -42.272964   -29.758823   -29.948362\n    0.8095212   -5.772237     8.628232    -8.0372095   -1.7432958\n    7.6096716   -4.0717807    2.6826406  -37.175632   -24.92328\n  -23.43591     31.25177    -26.938107   -18.473755   -14.480065\n   -3.1884422  -29.484581   -59.6677     -22.68161    -44.34878\n  -20.641388   -17.661919   -31.734251   -29.38717    -27.274723\n  -38.19837    -33.60861    -19.659885   -41.566578   -46.59927\n   -4.9226637  -34.36588    -19.157238   -14.746791   -40.02427\n    7.8832545   -7.9652767   -7.07096   ]\n [ -9.483641    16.460201    15.384489   -12.523894    -1.1785213\n   10.239481     1.4895504  -23.11883    -15.729337   -37.90741\n  -14.982399   -18.467863   -15.464232    -7.880192    -1.4091649\n   -6.9929223  -33.44747    -47.856277   -14.026949   -29.52866\n  -21.102238   -21.841404   -40.25064    -25.039652   -16.94819\n   -2.8026314  -15.070356   -31.346514   -17.413809   -17.114836\n  -28.13935     -4.6925673  -23.878027   -26.235634   -15.515712\n  -16.8826     -16.495766   -35.57727      5.1334047  -11.847482\n  -16.13011    -40.589943   -20.674953  ]\n [-41.687057   -19.74823     -8.647339    -4.714891   -44.596775\n   -3.8030825  -39.65753    -54.61649    -23.09923    -20.019377\n    5.2387724  -28.786596   -31.497484   -20.802248   -27.027443\n   -1.1626817  -40.797585   -43.58083    -40.101498   -28.25026\n  -17.672651   -22.727295   -18.768833     2.632713   -37.714485\n   -6.624112   -15.391239   -59.852234    -8.28206     -0.69864666\n  -19.659807    17.10041    -39.93833    -36.160366   -14.543007\n  -21.58269      1.5258033  -54.995186    35.183285   -23.146378\n  -23.551414   -40.632942   -66.9504    ]\n [ -8.289907     3.7241433   -3.1727314  -20.259382    -6.2662597\n  -16.705694   -37.618855   -16.898254    -8.078067     5.2745686\n  -18.961668   -30.531698    -3.143792     7.586673    10.296608\n    2.206167   -37.271248    11.397929   -37.318336   -24.304367\n  -14.408336   -41.474045   -18.017084   -15.34079    -18.459784\n  -23.045664   -11.2616005  -52.2407      -6.456063    -9.325696\n  -17.037897   -33.698658   -22.24731     20.856796    -4.337905\n    4.1725383  -17.815916    -1.8554059   -6.2989693    3.7242138\n  -12.109839   -29.546438   -41.45505   ]\n [  3.8034985   18.261547    -3.881713   -23.938639   -36.14692\n   -4.835965    -1.2799656  -21.371792    -5.851412   -49.466446\n  -37.70718     31.041914   -14.437473   -56.976204   -35.491695\n  -50.15546    -38.032066   -37.299896    -6.4927564  -34.155094\n  -14.938362    -7.4575586  -56.88083    -22.733427    -8.783024\n  -14.59616     -5.911598    -4.938077    -5.831151   -18.466997\n   23.172474   -11.238726   -22.302725   -33.50895     -1.2456533\n  -26.861013   -58.901234   -17.115631    -7.7568445  -49.170536\n    7.8973227  -38.77055     -7.0043783 ]]\nprediction result: [16  1 38 33 11]\nInput Classification : [16  1 38 33 11]\n"
     ]
    }
   ],
   "source": [
    "\n",
    "from tensorflow.python.tools import inspect_checkpoint as chkp\n",
    "\n",
    "# print all tensors in checkpoint file\n",
    "chkp.print_tensors_in_checkpoint_file('./lenet', tensor_name='', all_tensors=True)\n"
   ]
  },
  {
   "cell_type": "code",
   "execution_count": 128,
   "metadata": {
    "collapsed": true
   },
   "outputs": [
    {
     "name": "stdout",
     "output_type": "stream",
     "text": [
      "INFO:tensorflow:Restoring parameters from ./lenet\n"
     ]
    },
    {
     "name": "stdout",
     "output_type": "stream",
     "text": [
      "Logits are : [[-36.762054   -32.69155    -42.272964   -29.758823   -29.948362\n    0.8095212   -5.772237     8.628232    -8.0372095   -1.7432958\n    7.6096716   -4.0717807    2.6826406  -37.175632   -24.92328\n  -23.43591     31.25177    -26.938107   -18.473755   -14.480065\n   -3.1884422  -29.484581   -59.6677     -22.68161    -44.34878\n  -20.641388   -17.661919   -31.734251   -29.38717    -27.274723\n  -38.19837    -33.60861    -19.659885   -41.566578   -46.59927\n   -4.9226637  -34.36588    -19.157238   -14.746791   -40.02427\n    7.8832545   -7.9652767   -7.07096   ]\n [ -9.483641    16.460201    15.384489   -12.523894    -1.1785213\n   10.239481     1.4895504  -23.11883    -15.729337   -37.90741\n  -14.982399   -18.467863   -15.464232    -7.880192    -1.4091649\n   -6.9929223  -33.44747    -47.856277   -14.026949   -29.52866\n  -21.102238   -21.841404   -40.25064    -25.039652   -16.94819\n   -2.8026314  -15.070356   -31.346514   -17.413809   -17.114836\n  -28.13935     -4.6925673  -23.878027   -26.235634   -15.515712\n  -16.8826     -16.495766   -35.57727      5.1334047  -11.847482\n  -16.13011    -40.589943   -20.674953  ]\n [-41.687057   -19.74823     -8.647339    -4.714891   -44.596775\n   -3.8030825  -39.65753    -54.61649    -23.09923    -20.019377\n    5.2387724  -28.786596   -31.497484   -20.802248   -27.027443\n   -1.1626817  -40.797585   -43.58083    -40.101498   -28.25026\n  -17.672651   -22.727295   -18.768833     2.632713   -37.714485\n   -6.624112   -15.391239   -59.852234    -8.28206     -0.69864666\n  -19.659807    17.10041    -39.93833    -36.160366   -14.543007\n  -21.58269      1.5258033  -54.995186    35.183285   -23.146378\n  -23.551414   -40.632942   -66.9504    ]\n [ -8.289907     3.7241433   -3.1727314  -20.259382    -6.2662597\n  -16.705694   -37.618855   -16.898254    -8.078067     5.2745686\n  -18.961668   -30.531698    -3.143792     7.586673    10.296608\n    2.206167   -37.271248    11.397929   -37.318336   -24.304367\n  -14.408336   -41.474045   -18.017084   -15.34079    -18.459784\n  -23.045664   -11.2616005  -52.2407      -6.456063    -9.325696\n  -17.037897   -33.698658   -22.24731     20.856796    -4.337905\n    4.1725383  -17.815916    -1.8554059   -6.2989693    3.7242138\n  -12.109839   -29.546438   -41.45505   ]\n [  3.8034985   18.261547    -3.881713   -23.938639   -36.14692\n   -4.835965    -1.2799656  -21.371792    -5.851412   -49.466446\n  -37.70718     31.041914   -14.437473   -56.976204   -35.491695\n  -50.15546    -38.032066   -37.299896    -6.4927564  -34.155094\n  -14.938362    -7.4575586  -56.88083    -22.733427    -8.783024\n  -14.59616     -5.911598    -4.938077    -5.831151   -18.466997\n   23.172474   -11.238726   -22.302725   -33.50895     -1.2456533\n  -26.861013   -58.901234   -17.115631    -7.7568445  -49.170536\n    7.8973227  -38.77055     -7.0043783 ]]\nprediction result: [16  1 38 33 11]\nInput Classification : [16  1 38 33 11]\n"
     ]
    }
   ],
   "source": [
    "### Run the predictions here and use the model to output the prediction for each image.\n",
    "### Make sure to pre-process the images with the same pre-processing pipeline used earlier.\n",
    "### Feel free to use as many code cells as needed.  \n",
    "\n",
    "# import the inspect_checkpoint library\n",
    "X_prediction = preprocess(images)\n",
    "\n",
    "with tf.Session() as sess:\n",
    "    saver.restore(sess, './lenet')\n",
    "    result_prediction = sess.run(prediction, feed_dict={x: X_prediction, y: classes})\n",
    "    result_logits = sess.run(logits, feed_dict={x: X_prediction, y: classes})\n",
    "    print(\"Logits are : {0}\".format(result_logits) )\n",
    "    print(\"prediction result: {0}\".format(result_prediction))\n",
    "    print(\"Input Classification : {0}\".format(classes))\n",
    "    \n"
   ]
  },
  {
   "cell_type": "markdown",
   "metadata": {},
   "source": [
    "### Analyze Performance"
   ]
  },
  {
   "cell_type": "code",
   "execution_count": 4,
   "metadata": {
    "collapsed": true
   },
   "outputs": [],
   "source": [
    "### Calculate the accuracy for these 5 new images. \n",
    "### For example, if the model predicted 1 out of 5 signs correctly, it's 20% accurate on these new images."
   ]
  },
  {
   "cell_type": "markdown",
   "metadata": {},
   "source": [
    "### Output Top 5 Softmax Probabilities For Each Image Found on the Web"
   ]
  },
  {
   "cell_type": "markdown",
   "metadata": {},
   "source": [
    "For each of the new images, print out the model's softmax probabilities to show the **certainty** of the model's predictions (limit the output to the top 5 probabilities for each image). [`tf.nn.top_k`](https://www.tensorflow.org/versions/r0.12/api_docs/python/nn.html#top_k) could prove helpful here. \n",
    "\n",
    "The example below demonstrates how tf.nn.top_k can be used to find the top k predictions for each image.\n",
    "\n",
    "`tf.nn.top_k` will return the values and indices (class ids) of the top k predictions. So if k=3, for each sign, it'll return the 3 largest probabilities (out of a possible 43) and the correspoding class ids.\n",
    "\n",
    "Take this numpy array as an example. The values in the array represent predictions. The array contains softmax probabilities for five candidate images with six possible classes. `tf.nn.top_k` is used to choose the three classes with the highest probability:\n",
    "\n",
    "```\n",
    "# (5, 6) array\n",
    "a = np.array([[ 0.24879643,  0.07032244,  0.12641572,  0.34763842,  0.07893497,\n",
    "         0.12789202],\n",
    "       [ 0.28086119,  0.27569815,  0.08594638,  0.0178669 ,  0.18063401,\n",
    "         0.15899337],\n",
    "       [ 0.26076848,  0.23664738,  0.08020603,  0.07001922,  0.1134371 ,\n",
    "         0.23892179],\n",
    "       [ 0.11943333,  0.29198961,  0.02605103,  0.26234032,  0.1351348 ,\n",
    "         0.16505091],\n",
    "       [ 0.09561176,  0.34396535,  0.0643941 ,  0.16240774,  0.24206137,\n",
    "         0.09155967]])\n",
    "```\n",
    "\n",
    "Running it through `sess.run(tf.nn.top_k(tf.constant(a), k=3))` produces:\n",
    "\n",
    "```\n",
    "TopKV2(values=array([[ 0.34763842,  0.24879643,  0.12789202],\n",
    "       [ 0.28086119,  0.27569815,  0.18063401],\n",
    "       [ 0.26076848,  0.23892179,  0.23664738],\n",
    "       [ 0.29198961,  0.26234032,  0.16505091],\n",
    "       [ 0.34396535,  0.24206137,  0.16240774]]), indices=array([[3, 0, 5],\n",
    "       [0, 1, 4],\n",
    "       [0, 5, 1],\n",
    "       [1, 3, 5],\n",
    "       [1, 4, 3]], dtype=int32))\n",
    "```\n",
    "\n",
    "Looking just at the first row we get `[ 0.34763842,  0.24879643,  0.12789202]`, you can confirm these are the 3 largest probabilities in `a`. You'll also notice `[3, 0, 5]` are the corresponding indices."
   ]
  },
  {
   "cell_type": "code",
   "execution_count": 3,
   "metadata": {
    "collapsed": true
   },
   "outputs": [],
   "source": [
    "### Print out the top five softmax probabilities for the predictions on the German traffic sign images found on the web. \n",
    "### Feel free to use as many code cells as needed."
   ]
  },
  {
   "cell_type": "markdown",
   "metadata": {},
   "source": [
    "### Project Writeup\n",
    "\n",
    "Once you have completed the code implementation, document your results in a project writeup using this [template](https://github.com/udacity/CarND-Traffic-Sign-Classifier-Project/blob/master/writeup_template.md) as a guide. The writeup can be in a markdown or pdf file. "
   ]
  },
  {
   "cell_type": "markdown",
   "metadata": {},
   "source": [
    "> **Note**: Once you have completed all of the code implementations and successfully answered each question above, you may finalize your work by exporting the iPython Notebook as an HTML document. You can do this by using the menu above and navigating to  \\n\",\n",
    "    \"**File -> Download as -> HTML (.html)**. Include the finished document along with this notebook as your submission."
   ]
  },
  {
   "cell_type": "markdown",
   "metadata": {},
   "source": [
    "---\n",
    "\n",
    "## Step 4 (Optional): Visualize the Neural Network's State with Test Images\n",
    "\n",
    " This Section is not required to complete but acts as an additional excersise for understaning the output of a neural network's weights. While neural networks can be a great learning device they are often referred to as a black box. We can understand what the weights of a neural network look like better by plotting their feature maps. After successfully training your neural network you can see what it's feature maps look like by plotting the output of the network's weight layers in response to a test stimuli image. From these plotted feature maps, it's possible to see what characteristics of an image the network finds interesting. For a sign, maybe the inner network feature maps react with high activation to the sign's boundary outline or to the contrast in the sign's painted symbol.\n",
    "\n",
    " Provided for you below is the function code that allows you to get the visualization output of any tensorflow weight layer you want. The inputs to the function should be a stimuli image, one used during training or a new one you provided, and then the tensorflow variable name that represents the layer's state during the training process, for instance if you wanted to see what the [LeNet lab's](https://classroom.udacity.com/nanodegrees/nd013/parts/fbf77062-5703-404e-b60c-95b78b2f3f9e/modules/6df7ae49-c61c-4bb2-a23e-6527e69209ec/lessons/601ae704-1035-4287-8b11-e2c2716217ad/concepts/d4aca031-508f-4e0b-b493-e7b706120f81) feature maps looked like for it's second convolutional layer you could enter conv2 as the tf_activation variable.\n",
    "\n",
    "For an example of what feature map outputs look like, check out NVIDIA's results in their paper [End-to-End Deep Learning for Self-Driving Cars](https://devblogs.nvidia.com/parallelforall/deep-learning-self-driving-cars/) in the section Visualization of internal CNN State. NVIDIA was able to show that their network's inner weights had high activations to road boundary lines by comparing feature maps from an image with a clear path to one without. Try experimenting with a similar test to show that your trained network's weights are looking for interesting features, whether it's looking at differences in feature maps from images with or without a sign, or even what feature maps look like in a trained network vs a completely untrained one on the same sign image.\n",
    "\n",
    "<figure>\n",
    " <img src=\"visualize_cnn.png\" width=\"380\" alt=\"Combined Image\" />\n",
    " <figcaption>\n",
    " <p></p> \n",
    " <p style=\"text-align: center;\"> Your output should look something like this (above)</p> \n",
    " </figcaption>\n",
    "</figure>\n",
    " <p></p> \n"
   ]
  },
  {
   "cell_type": "code",
   "execution_count": null,
   "metadata": {
    "collapsed": true
   },
   "outputs": [],
   "source": [
    "### Visualize your network's feature maps here.\n",
    "### Feel free to use as many code cells as needed.\n",
    "\n",
    "# image_input: the test image being fed into the network to produce the feature maps\n",
    "# tf_activation: should be a tf variable name used during your training procedure that represents the calculated state of a specific weight layer\n",
    "# activation_min/max: can be used to view the activation contrast in more detail, by default matplot sets min and max to the actual min and max values of the output\n",
    "# plt_num: used to plot out multiple different weight feature map sets on the same block, just extend the plt number for each new feature map entry\n",
    "\n",
    "def outputFeatureMap(image_input, tf_activation, activation_min=-1, activation_max=-1 ,plt_num=1):\n",
    "    # Here make sure to preprocess your image_input in a way your network expects\n",
    "    # with size, normalization, ect if needed\n",
    "    # image_input =\n",
    "    # Note: x should be the same name as your network's tensorflow data placeholder variable\n",
    "    # If you get an error tf_activation is not defined it may be having trouble accessing the variable from inside a function\n",
    "    activation = tf_activation.eval(session=sess,feed_dict={x : image_input})\n",
    "    featuremaps = activation.shape[3]\n",
    "    plt.figure(plt_num, figsize=(15,15))\n",
    "    for featuremap in range(featuremaps):\n",
    "        plt.subplot(6,8, featuremap+1) # sets the number of feature maps to show on each row and column\n",
    "        plt.title('FeatureMap ' + str(featuremap)) # displays the feature map number\n",
    "        if activation_min != -1 & activation_max != -1:\n",
    "            plt.imshow(activation[0,:,:, featuremap], interpolation=\"nearest\", vmin =activation_min, vmax=activation_max, cmap=\"gray\")\n",
    "        elif activation_max != -1:\n",
    "            plt.imshow(activation[0,:,:, featuremap], interpolation=\"nearest\", vmax=activation_max, cmap=\"gray\")\n",
    "        elif activation_min !=-1:\n",
    "            plt.imshow(activation[0,:,:, featuremap], interpolation=\"nearest\", vmin=activation_min, cmap=\"gray\")\n",
    "        else:\n",
    "            plt.imshow(activation[0,:,:, featuremap], interpolation=\"nearest\", cmap=\"gray\")"
   ]
  }
 ],
 "metadata": {
  "anaconda-cloud": {},
  "kernelspec": {
   "display_name": "Python 3",
   "language": "python",
   "name": "python3"
  },
  "language_info": {
   "codemirror_mode": {
    "name": "ipython",
    "version": 3
   },
   "file_extension": ".py",
   "mimetype": "text/x-python",
   "name": "python",
   "nbconvert_exporter": "python",
   "pygments_lexer": "ipython3",
   "version": "3.5.2"
  }
 },
 "nbformat": 4,
 "nbformat_minor": 1
}
